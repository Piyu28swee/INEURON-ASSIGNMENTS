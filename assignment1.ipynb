{
 "cells": [
  {
   "cell_type": "markdown",
   "id": "6358d3bd-3887-4f6e-97bd-7845c5b0e1d2",
   "metadata": {},
   "source": [
    "# 1. In the below elements which of them are values or an expression? eg:- values can be integer or string and expressions will be mathematical operators."
   ]
  },
  {
   "cell_type": "code",
   "execution_count": null,
   "id": "cf6fd77c",
   "metadata": {},
   "outputs": [],
   "source": [
    "*        -> EXPRESSIONS\n",
    "'hello'  -> VALUES\n",
    "-87.8    -> VALUES\n",
    "-        -> EXPRESSIONS\n",
    "/        -> EXPRESSIONS\n",
    "+        ->\tEXPRESSIONS\n",
    "6        -> VALUES"
   ]
  },
  {
   "cell_type": "markdown",
   "id": "abbf3886-da1a-43e8-9b52-f521fbd42906",
   "metadata": {},
   "source": [
    "# 2. What is the difference between string and variable?"
   ]
  },
  {
   "cell_type": "markdown",
   "id": "200eb22e",
   "metadata": {},
   "source": [
    "Ans. String- is a datatype class or we can say its a type of information to store in variable, and it is usually store with \"\".\n",
    "\n",
    "for ex.\n",
    "\n",
    "a=\"amit\"\n",
    "type(a)\n",
    "\n",
    "str\n",
    "\n",
    "in above example a is the variable which is storing value as datatype str as amit.\n",
    "\n",
    "Variable- is a symbol that is used to store the data in that particular memory.\n",
    "\n",
    "for ex. \n",
    "\n",
    "my_first=20\n",
    "print(my_first)\n",
    "\n",
    "in the above example i am declaring one variable as my_first whose value i assigned 20 in his memory, so whenever i call/print my_first it will come as value 20\n"
   ]
  },
  {
   "cell_type": "markdown",
   "id": "8661a8bf-4694-4366-9066-ccffb1aa390c",
   "metadata": {},
   "source": [
    "# 3. Describe three different data types."
   ]
  },
  {
   "cell_type": "markdown",
   "id": "c4e08b59",
   "metadata": {},
   "source": [
    "Ans. 1. Numeric Datatype- represents the data that has a numerical value. A numeric value can be an integer, a floating number, or complex number.\n",
    "for ex. \n",
    "a=20\n",
    "b=20.4\n",
    "c=2+6j\n",
    "\n",
    "in above example a , b and c are the variables that is storing values as 20 int datatype, 20.4 as float and 2+6j as complex number datatype (2 as real part and 6 as imaginery part)\n",
    "\n",
    "2. Sequence Datatype- is an ordered collections of datatypes. can be represent as string, list, tuple.\n",
    "\n",
    "string- can be created using single quotes or double quotes or even triple quotes. \n",
    "for ex. \n",
    "a= \"peeyush\"\n",
    "here a is variable that storing 'peeyush' as string datatype.\n",
    "\n",
    "list- an ordered collection of data. It is flexible as the items in a list do not need to be of the same type. list is mutable.\n",
    "for ex. \n",
    "    a= [1,2,\"peeyush\"]\n",
    "here a is variable that storing list having integer & string as datatypes.\n",
    "\n",
    "Tuple- as list, a tuple is also an ordered collection of Python objects. tuple is immutable.\n",
    "for ex. \n",
    "    a= (1,2,\"peeyush\")\n",
    "here a is variable that storing tuple having integer & string as datatypes.\n",
    "\n",
    "3. Boolean Datatype- have 2 built in values as True or False.  Boolean objects that are equal to True are truthy (true), and those equal to False are falsy (false). and are casesensitive"
   ]
  },
  {
   "cell_type": "markdown",
   "id": "f02a7438-8bdb-4e53-8389-43e5dac8032e",
   "metadata": {},
   "source": [
    "# 4. What is an expression made up of? What do all expressions do?"
   ]
  },
  {
   "cell_type": "markdown",
   "id": "b8f6da69",
   "metadata": {},
   "source": [
    "Ans. expression are made up of operators and operands that is used to produce some other value.\n",
    "expressions can be of arithmetic expressions that use arithmetic operators (+,-,/,*), integral expressions that give only integer values, floating expressions that produces floating results, relational experssions that uses relation operators(> , < , >= , <=), logical expressions are kinds of expressions that result in either True or False. It basically specifies one or more conditions."
   ]
  },
  {
   "cell_type": "markdown",
   "id": "7dd5d0f2-a9e5-4474-8d23-a1414c108107",
   "metadata": {},
   "source": [
    "# 5. This assignment statements, like spam = 10. What is the difference between an expression and a statement?"
   ]
  },
  {
   "cell_type": "markdown",
   "id": "b3b145c5",
   "metadata": {},
   "source": [
    "Ans. in above case spam is the variable i.e. storing the values as 10 in memory.\n",
    "An expression is any word or symbols that is a value. An expression is a value, or anything that executes and ends up being a value.\n",
    "Statements are everything that can make up a line (or several lines) of Python code. \n",
    "Expressions are statements as well. \n",
    "\n",
    "Judging from the code above, \n",
    "spam, = and 10 are expressions because each of them has a definite and unique meaning or value. But if we take all of them together spam = 10  then we have a statement.\n"
   ]
  },
  {
   "cell_type": "markdown",
   "id": "39a592a4",
   "metadata": {},
   "source": [
    "# 6. After running the following code, what does the variable bacon contain?\n",
    "bacon = 22\n",
    "bacon + 1"
   ]
  },
  {
   "cell_type": "code",
   "execution_count": 2,
   "id": "bd1ebbc6",
   "metadata": {},
   "outputs": [],
   "source": [
    "bacon=22"
   ]
  },
  {
   "cell_type": "code",
   "execution_count": 3,
   "id": "3763efd5",
   "metadata": {},
   "outputs": [
    {
     "data": {
      "text/plain": [
       "23"
      ]
     },
     "execution_count": 3,
     "metadata": {},
     "output_type": "execute_result"
    }
   ],
   "source": [
    "bacon+1"
   ]
  },
  {
   "cell_type": "code",
   "execution_count": 4,
   "id": "7f637665",
   "metadata": {},
   "outputs": [
    {
     "data": {
      "text/plain": [
       "22"
      ]
     },
     "execution_count": 4,
     "metadata": {},
     "output_type": "execute_result"
    }
   ],
   "source": [
    "bacon"
   ]
  },
  {
   "cell_type": "markdown",
   "id": "c1dc0d6f",
   "metadata": {},
   "source": [
    "so variable bacon will contain 22 only"
   ]
  },
  {
   "cell_type": "markdown",
   "id": "f0472ea4",
   "metadata": {},
   "source": [
    "# 7. What should the values of the following two terms be?\n",
    "'spam' + 'spamspam'\n",
    "'spam' * 3\n"
   ]
  },
  {
   "cell_type": "code",
   "execution_count": 7,
   "id": "75f55dad",
   "metadata": {},
   "outputs": [
    {
     "data": {
      "text/plain": [
       "'spamspamspam'"
      ]
     },
     "execution_count": 7,
     "metadata": {},
     "output_type": "execute_result"
    }
   ],
   "source": [
    "\"spam\"+\"spamspam\""
   ]
  },
  {
   "cell_type": "code",
   "execution_count": 8,
   "id": "79ab156f",
   "metadata": {},
   "outputs": [
    {
     "data": {
      "text/plain": [
       "'spamspamspam'"
      ]
     },
     "execution_count": 8,
     "metadata": {},
     "output_type": "execute_result"
    }
   ],
   "source": [
    "\"spam\" *3"
   ]
  },
  {
   "cell_type": "markdown",
   "id": "3bd9191a",
   "metadata": {},
   "source": [
    "so justification of above question is in both two cases answer will be 'spamspamspam'"
   ]
  },
  {
   "cell_type": "markdown",
   "id": "0f31fb25",
   "metadata": {},
   "source": [
    "# 8. Why is eggs a valid variable name while 100 is invalid?"
   ]
  },
  {
   "cell_type": "markdown",
   "id": "736b8384",
   "metadata": {},
   "source": [
    "ans. Variable names cannot begin with a number."
   ]
  },
  {
   "cell_type": "markdown",
   "id": "b1895f9a",
   "metadata": {},
   "source": [
    "# 9. What three functions can be used to get the integer, floating-point number, or string version of a value?"
   ]
  },
  {
   "cell_type": "markdown",
   "id": "85b7f35d",
   "metadata": {},
   "source": [
    "Ans. the three functions are:\n",
    "int() - Integer\n",
    "float()- floating point number\n",
    "str()- string"
   ]
  },
  {
   "cell_type": "markdown",
   "id": "6b1f6d7a",
   "metadata": {},
   "source": [
    "# 10. Why does this expression cause an error? How can you fix it?\n",
    "'I have eaten ' + 99 + ' burritos.'\n"
   ]
  },
  {
   "cell_type": "code",
   "execution_count": 13,
   "id": "8683adb5",
   "metadata": {},
   "outputs": [],
   "source": [
    "a=\"I have eaten \" + \"99\" + \" burritos.\""
   ]
  },
  {
   "cell_type": "code",
   "execution_count": 14,
   "id": "a23fe012",
   "metadata": {},
   "outputs": [
    {
     "data": {
      "text/plain": [
       "'I have eaten 99 burritos.'"
      ]
     },
     "execution_count": 14,
     "metadata": {},
     "output_type": "execute_result"
    }
   ],
   "source": [
    "a"
   ]
  },
  {
   "cell_type": "markdown",
   "id": "f1d140a8",
   "metadata": {},
   "source": [
    "The expression causes an error because 99 is an integer, and only strings can be concatenated to other strings with the + operator. The correct way is I have eaten ' + str(99) + ' burritos.'. or by using \"\" - \"I have eaten \" + \"99\" + \" burritos.\""
   ]
  },
  {
   "cell_type": "code",
   "execution_count": null,
   "id": "c33da872",
   "metadata": {},
   "outputs": [],
   "source": []
  }
 ],
 "metadata": {
  "kernelspec": {
   "display_name": "Python 3 (ipykernel)",
   "language": "python",
   "name": "python3"
  },
  "language_info": {
   "codemirror_mode": {
    "name": "ipython",
    "version": 3
   },
   "file_extension": ".py",
   "mimetype": "text/x-python",
   "name": "python",
   "nbconvert_exporter": "python",
   "pygments_lexer": "ipython3",
   "version": "3.10.9"
  }
 },
 "nbformat": 4,
 "nbformat_minor": 5
}
