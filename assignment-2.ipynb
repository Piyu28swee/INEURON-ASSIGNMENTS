{
 "cells": [
  {
   "cell_type": "markdown",
   "id": "03ace317",
   "metadata": {},
   "source": [
    "1.What are the two values of the Boolean data type? How do you write them?"
   ]
  },
  {
   "cell_type": "markdown",
   "id": "c390e054",
   "metadata": {},
   "source": [
    "Asnwer: Boolean Type values is one of the built-in data types provided by Python, which represents one of the two values i.e. True or False.\n",
    "\n",
    "For example, 1==1 is True whereas 2<1 is False.\n",
    "\n",
    "\n",
    "- They are written as \n",
    "- boolA =True\n",
    "- boolB = False"
   ]
  },
  {
   "cell_type": "code",
   "execution_count": 22,
   "id": "536147c2",
   "metadata": {},
   "outputs": [
    {
     "data": {
      "text/plain": [
       "bool"
      ]
     },
     "execution_count": 22,
     "metadata": {},
     "output_type": "execute_result"
    }
   ],
   "source": [
    "a = True\n",
    "type(a)"
   ]
  },
  {
   "cell_type": "code",
   "execution_count": 23,
   "id": "1d7556d0",
   "metadata": {},
   "outputs": [
    {
     "data": {
      "text/plain": [
       "bool"
      ]
     },
     "execution_count": 23,
     "metadata": {},
     "output_type": "execute_result"
    }
   ],
   "source": [
    "b = False\n",
    "type(b)"
   ]
  },
  {
   "cell_type": "markdown",
   "id": "3d689bc2",
   "metadata": {},
   "source": [
    "2. What are the three different types of Boolean operators?"
   ]
  },
  {
   "cell_type": "markdown",
   "id": "9a7c12eb",
   "metadata": {},
   "source": [
    "Answer :\n",
    "There are mainly three types of logical operators in python : logical AND, logical OR and logical NOT. They are used in the code as and,or and not"
   ]
  },
  {
   "cell_type": "markdown",
   "id": "36d2d7cc",
   "metadata": {},
   "source": [
    "3. Make a list of each Boolean operator's truth tables (i.e. every possible combination of Boolean values for the operator and what it evaluate )."
   ]
  },
  {
   "cell_type": "code",
   "execution_count": 31,
   "id": "3d91d974",
   "metadata": {},
   "outputs": [
    {
     "name": "stdout",
     "output_type": "stream",
     "text": [
      "The AND operator truth table\n",
      "[A, B, AandB]\n",
      "[0, 0, 0]\n",
      "[0, 1, 0]\n",
      "[1, 1, 1]\n",
      "\n",
      "The OR operator truth table\n",
      "[A, B, AorB]\n",
      "[0, 0, 0]\n",
      "[0, 1, 1]\n",
      "[1, 1, 1]\n",
      "\n",
      "The NOT operator truth table\n",
      "[A, notA]\n",
      "[0, 1]\n",
      "[1, 0]\n"
     ]
    }
   ],
   "source": [
    "and_List = [[0, 0 ,0],[0,1,0],[1,1,1]]\n",
    "\n",
    "print(\"The AND operator truth table\")\n",
    "print(\"[A, B, AandB]\")\n",
    "for i in and_List:\n",
    "    print(i)\n",
    "    \n",
    "or_List = [[0, 0 ,0],[0,1,1],[1,1,1]]\n",
    "\n",
    "print(\"\\nThe OR operator truth table\")\n",
    "print(\"[A, B, AorB]\")\n",
    "for i in or_List:\n",
    "    print(i)\n",
    "    \n",
    "not_List = [[0, 1],[1,0]]\n",
    "\n",
    "print(\"\\nThe NOT operator truth table\")\n",
    "print(\"[A, notA]\")\n",
    "for i in not_List:\n",
    "    print(i)"
   ]
  },
  {
   "cell_type": "markdown",
   "id": "1c323e3b",
   "metadata": {},
   "source": [
    "4. What are the values of the following expressions?\n",
    "(5 > 4) and (3 == 5)\n",
    "\n",
    "not (5 > 4)\n",
    "\n",
    "(5 > 4) or (3 == 5)\n",
    "\n",
    "not ((5 > 4) or (3 == 5))\n",
    "\n",
    "(True and True) and (True == False)\n",
    "\n",
    "(not False) or (not True)\n"
   ]
  },
  {
   "cell_type": "markdown",
   "id": "ccf315e7",
   "metadata": {},
   "source": [
    "Answers:\n",
    "    \n",
    "- (5 > 4) and (3 == 5)  - > True and False = False\n",
    "\n",
    "- not (5 > 4) -> not(True) = False\n",
    "\n",
    "- (5 > 4) or (3 == 5) -> True or False = True\n",
    "\n",
    "- not ((5 > 4) or (3 == 5)) -> not(True) - >False\n",
    "\n",
    "- (True and True) and (True == False) - > (True) and (False) = False\n",
    "\n",
    "- (not False) or (not True) -> True or False = True"
   ]
  },
  {
   "cell_type": "code",
   "execution_count": 2,
   "id": "b939ad5d",
   "metadata": {},
   "outputs": [
    {
     "data": {
      "text/plain": [
       "False"
      ]
     },
     "execution_count": 2,
     "metadata": {},
     "output_type": "execute_result"
    }
   ],
   "source": [
    "(5 > 4) and (3 == 5) "
   ]
  },
  {
   "cell_type": "code",
   "execution_count": 3,
   "id": "acd1422b",
   "metadata": {},
   "outputs": [
    {
     "data": {
      "text/plain": [
       "False"
      ]
     },
     "execution_count": 3,
     "metadata": {},
     "output_type": "execute_result"
    }
   ],
   "source": [
    "not (5 > 4)"
   ]
  },
  {
   "cell_type": "code",
   "execution_count": 4,
   "id": "0839aac0",
   "metadata": {},
   "outputs": [
    {
     "data": {
      "text/plain": [
       "True"
      ]
     },
     "execution_count": 4,
     "metadata": {},
     "output_type": "execute_result"
    }
   ],
   "source": [
    "(not False) or (not True)"
   ]
  },
  {
   "cell_type": "code",
   "execution_count": 5,
   "id": "be1b6f76",
   "metadata": {},
   "outputs": [
    {
     "data": {
      "text/plain": [
       "False"
      ]
     },
     "execution_count": 5,
     "metadata": {},
     "output_type": "execute_result"
    }
   ],
   "source": [
    "(True and True) and (True == False)"
   ]
  },
  {
   "cell_type": "code",
   "execution_count": 6,
   "id": "4c01bdc2",
   "metadata": {},
   "outputs": [
    {
     "data": {
      "text/plain": [
       "False"
      ]
     },
     "execution_count": 6,
     "metadata": {},
     "output_type": "execute_result"
    }
   ],
   "source": [
    "not ((5 > 4) or (3 == 5))"
   ]
  },
  {
   "cell_type": "markdown",
   "id": "9a35386d",
   "metadata": {},
   "source": [
    "5. What are the six comparison operators?"
   ]
  },
  {
   "cell_type": "markdown",
   "id": "4ca71ccf",
   "metadata": {},
   "source": [
    "Answer: Following are 6 comparision operator in Python\n",
    "\n",
    "==, !=, <, >, <=, and >=."
   ]
  },
  {
   "cell_type": "markdown",
   "id": "ebb6e205",
   "metadata": {},
   "source": [
    "6. How do you tell the difference between the equal to and assignment operators?Describe a condition and when you would use one."
   ]
  },
  {
   "cell_type": "markdown",
   "id": "5cf7de24",
   "metadata": {},
   "source": [
    "Answer:\n",
    "\n",
    "Assignment operator \"=\"\n",
    "It is an assignment operator.\n",
    "It is used for assigning the value to a variable.\n",
    "\n",
    "example a = 10, str = \"Bhanu\"\n",
    "\n",
    "Constant term cannot be placed on left hand side.\n",
    "\n",
    "Example: 1=x; is invalid.\n",
    "\n",
    "Equal to Operator \"==\"\n",
    "It is a relational or comparison operator\n",
    "It is used for comparing two values. It returns 1 if both the values are equal otherwise returns 0.\n",
    "Constant term can be placed in the left hand side.\n",
    "\n",
    "Example: 1==1 is valid and returns 1.\n",
    "\n",
    "example :\n"
   ]
  },
  {
   "cell_type": "code",
   "execution_count": 8,
   "id": "b282a623",
   "metadata": {},
   "outputs": [
    {
     "name": "stdout",
     "output_type": "stream",
     "text": [
      "True\n"
     ]
    }
   ],
   "source": [
    "x=10\n",
    "y=10\n",
    "\n",
    "if x==y:\n",
    "    print(\"True\")\n",
    "else:\n",
    "    print(\"False\")"
   ]
  },
  {
   "cell_type": "markdown",
   "id": "3520937f",
   "metadata": {},
   "source": [
    "7. Identify the three blocks in this code:\n",
    "\n",
    "spam = 0\n",
    "\n",
    "if spam == 10:\n",
    "\n",
    "print('eggs')\n",
    "\n",
    "if spam > 5:\n",
    "\n",
    "print('bacon')\n",
    "\n",
    "else:\n",
    "\n",
    "print('ham')\n",
    "\n",
    "print('spam')\n",
    "\n",
    "print('spam')\n"
   ]
  },
  {
   "cell_type": "markdown",
   "id": "37ff7d21",
   "metadata": {},
   "source": [
    "Answer:"
   ]
  },
  {
   "cell_type": "code",
   "execution_count": 10,
   "id": "d306f79a",
   "metadata": {},
   "outputs": [
    {
     "name": "stdout",
     "output_type": "stream",
     "text": [
      "ham\n",
      "spam\n",
      "spam\n"
     ]
    }
   ],
   "source": [
    "spam = 0  # ist block\n",
    "    \n",
    "if spam == 10: # second block\n",
    "    print(\"eggs\")  \n",
    "\n",
    "if spam > 5: # 3rd Block\n",
    "    print(\"bacon\")\n",
    "else:\n",
    "    print(\"ham\")\n",
    "    print(\"spam\")\n",
    "    print(\"spam\")"
   ]
  },
  {
   "cell_type": "markdown",
   "id": "1e45be7b",
   "metadata": {},
   "source": [
    "8. Write code that prints Hello if 1 is stored in spam, prints Howdy if 2 is stored in spam, and prints Greetings! if anything else is stored in spam."
   ]
  },
  {
   "cell_type": "code",
   "execution_count": 32,
   "id": "91360be6",
   "metadata": {},
   "outputs": [
    {
     "name": "stdout",
     "output_type": "stream",
     "text": [
      "Enter spam value :3\n",
      "Greetings!\n"
     ]
    }
   ],
   "source": [
    "spam = int(input(\"Enter spam value :\"))\n",
    "if spam == 1 :\n",
    "    print(\"Hello\")\n",
    "elif spam == 2:\n",
    "    print(\"Howdy\")\n",
    "else:\n",
    "    print(\"Greetings!\")"
   ]
  },
  {
   "cell_type": "markdown",
   "id": "3f726226",
   "metadata": {},
   "source": [
    "9.If your programme is stuck in an endless loop, what keys you’ll press?"
   ]
  },
  {
   "cell_type": "markdown",
   "id": "b6588587",
   "metadata": {},
   "source": [
    "Answer: Press CTRL+C to stop a program stuck in an infinite loop."
   ]
  },
  {
   "cell_type": "markdown",
   "id": "a77c328b",
   "metadata": {},
   "source": [
    "10. How can you tell the difference between break and continue?"
   ]
  },
  {
   "cell_type": "markdown",
   "id": "ac75de54",
   "metadata": {},
   "source": [
    "Answer: \n",
    "\n",
    "Break Statement : \n",
    "Break statements exist in Python to exit or “break” a for or while conditional loop. When the loop ends, the code picks up\n",
    "from and executes the next line immediately following the loop that was broken\n",
    "\n",
    "Continue Statement:\n",
    "The continue statement is used to skip code within a loop for certain iterations of the loop. After the code is skipped,\n",
    "the loop continues where it left off"
   ]
  },
  {
   "cell_type": "code",
   "execution_count": 33,
   "id": "973ee203",
   "metadata": {},
   "outputs": [
    {
     "name": "stdout",
     "output_type": "stream",
     "text": [
      "2\n"
     ]
    }
   ],
   "source": [
    "#Break Example\n",
    "l = [1,2,3]\n",
    "a = 0\n",
    "for i in l:\n",
    "    a+=l[i]\n",
    "    print(a)\n",
    "    if a == 2:\n",
    "        break\n",
    "#In this example, the loop will break after the count is equal to 2."
   ]
  },
  {
   "cell_type": "code",
   "execution_count": 13,
   "id": "2dce1787",
   "metadata": {},
   "outputs": [
    {
     "name": "stdout",
     "output_type": "stream",
     "text": [
      "0\n",
      "1\n",
      "3\n"
     ]
    }
   ],
   "source": [
    "# continue example\n",
    "for x in range(4):\n",
    "    if (x==2):\n",
    "        continue\n",
    "    print(x)\n",
    "#This example would print all numbers from 0-4 except 2"
   ]
  },
  {
   "cell_type": "markdown",
   "id": "fef4d03b",
   "metadata": {},
   "source": [
    "11. In a for loop, what is the difference between range(10), range(0, 10), and range(0, 10, 1)?"
   ]
  },
  {
   "cell_type": "markdown",
   "id": "205a2f17",
   "metadata": {},
   "source": [
    "Answer: They all do the same thing. The range(10) call ranges from 0 up to (but not including) 10, range(0, 10) explicitly tells the loop to start at 0, and range(0, 10, 1) explicitly tells the loop to increase the variable by 1 on each iteration."
   ]
  },
  {
   "cell_type": "code",
   "execution_count": 15,
   "id": "0bbdb95f",
   "metadata": {},
   "outputs": [
    {
     "name": "stdout",
     "output_type": "stream",
     "text": [
      "0\n",
      "1\n",
      "2\n",
      "3\n",
      "4\n",
      "5\n",
      "6\n",
      "7\n",
      "8\n",
      "9\n"
     ]
    }
   ],
   "source": [
    "for i in range(10):\n",
    "    print(i)"
   ]
  },
  {
   "cell_type": "code",
   "execution_count": 16,
   "id": "bacd4201",
   "metadata": {},
   "outputs": [
    {
     "name": "stdout",
     "output_type": "stream",
     "text": [
      "0\n",
      "1\n",
      "2\n",
      "3\n",
      "4\n",
      "5\n",
      "6\n",
      "7\n",
      "8\n",
      "9\n"
     ]
    }
   ],
   "source": [
    "for i in range(0,10):\n",
    "    print(i)"
   ]
  },
  {
   "cell_type": "code",
   "execution_count": 17,
   "id": "0cd2c20d",
   "metadata": {},
   "outputs": [
    {
     "name": "stdout",
     "output_type": "stream",
     "text": [
      "0\n",
      "1\n",
      "2\n",
      "3\n",
      "4\n",
      "5\n",
      "6\n",
      "7\n",
      "8\n",
      "9\n"
     ]
    }
   ],
   "source": [
    "for i in range(0,10,1):\n",
    "    print(i)"
   ]
  },
  {
   "cell_type": "markdown",
   "id": "2f0fa2c8",
   "metadata": {},
   "source": [
    "12. Write a short program that prints the numbers 1 to 10 using a for loop. Then write an equivalent program that prints the numbers 1 to 10 using a while loop."
   ]
  },
  {
   "cell_type": "code",
   "execution_count": 18,
   "id": "5111320d",
   "metadata": {},
   "outputs": [
    {
     "name": "stdout",
     "output_type": "stream",
     "text": [
      "1\n",
      "2\n",
      "3\n",
      "4\n",
      "5\n",
      "6\n",
      "7\n",
      "8\n",
      "9\n",
      "10\n"
     ]
    }
   ],
   "source": [
    "# Using for loop\n",
    "for i in range(1,11):\n",
    "    print(i)"
   ]
  },
  {
   "cell_type": "code",
   "execution_count": 34,
   "id": "90f6cff6",
   "metadata": {},
   "outputs": [
    {
     "name": "stdout",
     "output_type": "stream",
     "text": [
      "1\n",
      "2\n",
      "3\n",
      "4\n",
      "5\n",
      "6\n",
      "7\n",
      "8\n",
      "9\n",
      "10\n"
     ]
    }
   ],
   "source": [
    "# Using while loop\n",
    "a = 1\n",
    "while a <=10:\n",
    "    print(a)\n",
    "    a+=1"
   ]
  },
  {
   "cell_type": "markdown",
   "id": "84d473a5",
   "metadata": {},
   "source": [
    "13. If you had a function named bacon() inside a module named spam, how would you call it after importing spam?"
   ]
  },
  {
   "cell_type": "markdown",
   "id": "072e4846",
   "metadata": {},
   "source": [
    "Answer:\n",
    "\n",
    "import spam\n",
    "\n",
    "a = spam.bacon()"
   ]
  },
  {
   "cell_type": "markdown",
   "id": "c3cd5def",
   "metadata": {},
   "source": [
    "This function can be called with spam.bacon()."
   ]
  },
  {
   "cell_type": "code",
   "execution_count": null,
   "id": "1f10e56c",
   "metadata": {},
   "outputs": [],
   "source": []
  }
 ],
 "metadata": {
  "kernelspec": {
   "display_name": "Python 3 (ipykernel)",
   "language": "python",
   "name": "python3"
  },
  "language_info": {
   "codemirror_mode": {
    "name": "ipython",
    "version": 3
   },
   "file_extension": ".py",
   "mimetype": "text/x-python",
   "name": "python",
   "nbconvert_exporter": "python",
   "pygments_lexer": "ipython3",
   "version": "3.10.9"
  }
 },
 "nbformat": 4,
 "nbformat_minor": 5
}
